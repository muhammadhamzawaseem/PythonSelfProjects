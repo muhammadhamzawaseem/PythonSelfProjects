{
 "cells": [
  {
   "cell_type": "markdown",
   "id": "67f8685c-d697-4f0c-a80e-5d4ae782d316",
   "metadata": {},
   "source": [
    "# File Sorter"
   ]
  },
  {
   "cell_type": "code",
   "execution_count": 335,
   "id": "f917b07f-4c1d-4a5c-b2f6-fa2f7adc3fa2",
   "metadata": {},
   "outputs": [],
   "source": [
    "import os, shutil"
   ]
  },
  {
   "cell_type": "code",
   "execution_count": 343,
   "id": "2ac49f32-d34a-4ea3-9b14-5eebd7fcf2b0",
   "metadata": {},
   "outputs": [],
   "source": [
    "#path where we have to check files\n",
    "path = r\"C:/Users/abcal/Documents/Hello/\"\n",
    "\n",
    "#get all files and dir list of given path\n",
    "file_names = os.listdir(path)"
   ]
  },
  {
   "cell_type": "code",
   "execution_count": 345,
   "id": "00bf41f5-d206-41b4-8b02-9d82acac3c4f",
   "metadata": {},
   "outputs": [],
   "source": [
    "#new folders names\n",
    "folder_names = ['csv_files', 'doc_files', 'image_files']"
   ]
  },
  {
   "cell_type": "code",
   "execution_count": 347,
   "id": "948f05d2-8d56-4c18-8607-9a1482c19147",
   "metadata": {},
   "outputs": [
    {
     "name": "stdout",
     "output_type": "stream",
     "text": [
      "C:/Users/abcal/Documents/Hello/csv_files\n",
      "C:/Users/abcal/Documents/Hello/doc_files\n",
      "C:/Users/abcal/Documents/Hello/image_files\n"
     ]
    }
   ],
   "source": [
    "# Making new folders\n",
    "for dirs in range(0,3):\n",
    "    if not os.path.exists(path + folder_names[dirs]):\n",
    "        print(path + folder_names[dirs])\n",
    "        os.makedirs(path + folder_names[dirs])"
   ]
  },
  {
   "cell_type": "code",
   "execution_count": 349,
   "id": "37b705a4-cd81-4a76-80ed-667672a4c77a",
   "metadata": {},
   "outputs": [],
   "source": [
    "#moving files in respective folders\n",
    "for file in file_names:\n",
    "    if \".xlsx\" in file and not os.path.exists(path + \"csv_files/\" + file):\n",
    "        shutil.move(path + file, path + \"csv_files/\" + file)\n",
    "    if \".docx\" in file and not os.path.exists(path + \"doc_files/\" + file):\n",
    "        shutil.move(path + file, path + \"doc_files/\" + file)\n",
    "    if \".png\" in file and not os.path.exists(path + \"image_files/\" + file):\n",
    "        shutil.move(path + file, path + \"image_files/\" + file)"
   ]
  },
  {
   "cell_type": "code",
   "execution_count": null,
   "id": "dd4f10d3-eed0-407f-8fa2-2109e27a36c7",
   "metadata": {},
   "outputs": [],
   "source": []
  }
 ],
 "metadata": {
  "kernelspec": {
   "display_name": "Python [conda env:base] *",
   "language": "python",
   "name": "conda-base-py"
  },
  "language_info": {
   "codemirror_mode": {
    "name": "ipython",
    "version": 3
   },
   "file_extension": ".py",
   "mimetype": "text/x-python",
   "name": "python",
   "nbconvert_exporter": "python",
   "pygments_lexer": "ipython3",
   "version": "3.12.7"
  }
 },
 "nbformat": 4,
 "nbformat_minor": 5
}
