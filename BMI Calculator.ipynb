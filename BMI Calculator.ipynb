{
 "cells": [
  {
   "cell_type": "markdown",
   "id": "67f8685c-d697-4f0c-a80e-5d4ae782d316",
   "metadata": {},
   "source": [
    "# BMI Calculator"
   ]
  },
  {
   "cell_type": "code",
   "execution_count": 328,
   "id": "f917b07f-4c1d-4a5c-b2f6-fa2f7adc3fa2",
   "metadata": {},
   "outputs": [
    {
     "name": "stdin",
     "output_type": "stream",
     "text": [
      "Enter your weight in pounds:  196\n",
      "Enter your height in pounds:  67\n"
     ]
    }
   ],
   "source": [
    "weightInPounds = int(input(\"Enter your weight in pounds: \"))\n",
    "heightInInches = int(input(\"Enter your height in pounds: \"))"
   ]
  },
  {
   "cell_type": "code",
   "execution_count": 330,
   "id": "2ac49f32-d34a-4ea3-9b14-5eebd7fcf2b0",
   "metadata": {},
   "outputs": [
    {
     "name": "stdout",
     "output_type": "stream",
     "text": [
      "30.694586767654265\n"
     ]
    }
   ],
   "source": [
    "bmi = float((weightInPounds * 703) / (heightInInches * heightInInches))\n",
    "print(bmi)"
   ]
  },
  {
   "cell_type": "code",
   "execution_count": 332,
   "id": "00bf41f5-d206-41b4-8b02-9d82acac3c4f",
   "metadata": {},
   "outputs": [
    {
     "name": "stdout",
     "output_type": "stream",
     "text": [
      "Obesity, you are out of control brother\n"
     ]
    }
   ],
   "source": [
    "if (bmi < 18.5):\n",
    "    print('You are Underweight, Eat more...')\n",
    "elif ((bmi >= 18.5) and (bmi <= 24.9)):\n",
    "    print('Your weight is normal')\n",
    "elif ((bmi >= 25) and (bmi <= 29.9)):\n",
    "    print('You are Overweight, run daily')\n",
    "else:\n",
    "    print('Obesity, you are out of control brother')"
   ]
  },
  {
   "cell_type": "code",
   "execution_count": null,
   "id": "948f05d2-8d56-4c18-8607-9a1482c19147",
   "metadata": {},
   "outputs": [],
   "source": []
  }
 ],
 "metadata": {
  "kernelspec": {
   "display_name": "Python [conda env:base] *",
   "language": "python",
   "name": "conda-base-py"
  },
  "language_info": {
   "codemirror_mode": {
    "name": "ipython",
    "version": 3
   },
   "file_extension": ".py",
   "mimetype": "text/x-python",
   "name": "python",
   "nbconvert_exporter": "python",
   "pygments_lexer": "ipython3",
   "version": "3.12.7"
  }
 },
 "nbformat": 4,
 "nbformat_minor": 5
}
