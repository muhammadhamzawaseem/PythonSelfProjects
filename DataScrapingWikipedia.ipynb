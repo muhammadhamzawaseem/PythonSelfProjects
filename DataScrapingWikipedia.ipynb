{
 "cells": [
  {
   "cell_type": "markdown",
   "id": "67f8685c-d697-4f0c-a80e-5d4ae782d316",
   "metadata": {},
   "source": [
    "# Data Scraping BeautifulSoup, Pandas | List of largest companies in the United States by revenue Wikipedia"
   ]
  },
  {
   "cell_type": "code",
   "execution_count": 4,
   "id": "f917b07f-4c1d-4a5c-b2f6-fa2f7adc3fa2",
   "metadata": {},
   "outputs": [],
   "source": [
    "from bs4 import BeautifulSoup\n",
    "import requests"
   ]
  },
  {
   "cell_type": "code",
   "execution_count": 5,
   "id": "033a3749-1928-4b76-af32-11a26fdac91b",
   "metadata": {
    "scrolled": true
   },
   "outputs": [],
   "source": [
    "url = 'https://en.wikipedia.org/wiki/List_of_largest_companies_in_the_United_States_by_revenue'\n",
    "page = requests.get(url)\n",
    "soup = BeautifulSoup(page.text, 'html')\n",
    "# print(soup.prettify())"
   ]
  },
  {
   "cell_type": "code",
   "execution_count": 8,
   "id": "ee4562e2-49ea-43ba-8794-10c565de7575",
   "metadata": {},
   "outputs": [],
   "source": [
    "#soup.find('tr').text\n",
    "table = soup.find('table', class_ = 'wikitable sortable')"
   ]
  },
  {
   "cell_type": "code",
   "execution_count": 10,
   "id": "1d0d89b7-3eef-4251-aa1b-3ad2f0d2fbb5",
   "metadata": {
    "scrolled": true
   },
   "outputs": [],
   "source": [
    "# print(table)"
   ]
  },
  {
   "cell_type": "code",
   "execution_count": 12,
   "id": "ddd76d29-ca71-4c85-bb63-b9f119ab2422",
   "metadata": {
    "scrolled": true
   },
   "outputs": [],
   "source": [
    "# soup.find_all('th')"
   ]
  },
  {
   "cell_type": "code",
   "execution_count": 14,
   "id": "904a742d-ef44-44b1-9537-42bf63fdc99f",
   "metadata": {},
   "outputs": [
    {
     "name": "stdout",
     "output_type": "stream",
     "text": [
      "[<th>Rank\n",
      "</th>, <th>Name\n",
      "</th>, <th>Industry\n",
      "</th>, <th>Revenue <br/>(USD millions)\n",
      "</th>, <th>Revenue growth\n",
      "</th>, <th>Employees\n",
      "</th>, <th>Headquarters\n",
      "</th>]\n"
     ]
    }
   ],
   "source": [
    "bad = '\\n'\n",
    "my_list = list(soup.find('tr'))\n",
    "for bad in my_list:\n",
    "    my_list.remove(bad)\n",
    "\n",
    "print(my_list)"
   ]
  },
  {
   "cell_type": "code",
   "execution_count": 16,
   "id": "b51746bd-2084-4197-ac91-12cbbb148e69",
   "metadata": {},
   "outputs": [
    {
     "name": "stdout",
     "output_type": "stream",
     "text": [
      "['Rank', 'Name', 'Industry', 'Revenue (USD millions)', 'Revenue growth', 'Employees', 'Headquarters']\n"
     ]
    }
   ],
   "source": [
    "table_titles = [title.text.strip() for title in my_list]\n",
    "print(table_titles)\n",
    "\n",
    "# for til in my_list:\n",
    "#     print(til.text)"
   ]
  },
  {
   "cell_type": "code",
   "execution_count": 18,
   "id": "1631185f-4b6a-401e-a21b-9cf44cecaed5",
   "metadata": {},
   "outputs": [
    {
     "data": {
      "text/html": [
       "<div>\n",
       "<style scoped>\n",
       "    .dataframe tbody tr th:only-of-type {\n",
       "        vertical-align: middle;\n",
       "    }\n",
       "\n",
       "    .dataframe tbody tr th {\n",
       "        vertical-align: top;\n",
       "    }\n",
       "\n",
       "    .dataframe thead th {\n",
       "        text-align: right;\n",
       "    }\n",
       "</style>\n",
       "<table border=\"1\" class=\"dataframe\">\n",
       "  <thead>\n",
       "    <tr style=\"text-align: right;\">\n",
       "      <th></th>\n",
       "      <th>Rank</th>\n",
       "      <th>Name</th>\n",
       "      <th>Industry</th>\n",
       "      <th>Revenue (USD millions)</th>\n",
       "      <th>Revenue growth</th>\n",
       "      <th>Employees</th>\n",
       "      <th>Headquarters</th>\n",
       "    </tr>\n",
       "  </thead>\n",
       "  <tbody>\n",
       "  </tbody>\n",
       "</table>\n",
       "</div>"
      ],
      "text/plain": [
       "Empty DataFrame\n",
       "Columns: [Rank, Name, Industry, Revenue (USD millions), Revenue growth, Employees, Headquarters]\n",
       "Index: []"
      ]
     },
     "execution_count": 18,
     "metadata": {},
     "output_type": "execute_result"
    }
   ],
   "source": [
    "import pandas as pd\n",
    "\n",
    "df = pd.DataFrame(columns = table_titles)\n",
    "df"
   ]
  },
  {
   "cell_type": "code",
   "execution_count": 20,
   "id": "63b656e7-057c-4c0f-badf-55cbc352571c",
   "metadata": {
    "scrolled": true
   },
   "outputs": [],
   "source": [
    "# table = soup.find_all('table')[0]\n",
    "# print(table)\n",
    "# table.find_all('tr')"
   ]
  },
  {
   "cell_type": "code",
   "execution_count": 22,
   "id": "2180b78c-d053-423c-8dc8-bdb88a8b771b",
   "metadata": {
    "scrolled": true
   },
   "outputs": [
    {
     "data": {
      "text/html": [
       "<div>\n",
       "<style scoped>\n",
       "    .dataframe tbody tr th:only-of-type {\n",
       "        vertical-align: middle;\n",
       "    }\n",
       "\n",
       "    .dataframe tbody tr th {\n",
       "        vertical-align: top;\n",
       "    }\n",
       "\n",
       "    .dataframe thead th {\n",
       "        text-align: right;\n",
       "    }\n",
       "</style>\n",
       "<table border=\"1\" class=\"dataframe\">\n",
       "  <thead>\n",
       "    <tr style=\"text-align: right;\">\n",
       "      <th></th>\n",
       "      <th>Rank</th>\n",
       "      <th>Name</th>\n",
       "      <th>Industry</th>\n",
       "      <th>Revenue (USD millions)</th>\n",
       "      <th>Revenue growth</th>\n",
       "      <th>Employees</th>\n",
       "      <th>Headquarters</th>\n",
       "    </tr>\n",
       "  </thead>\n",
       "  <tbody>\n",
       "    <tr>\n",
       "      <th>0</th>\n",
       "      <td>1</td>\n",
       "      <td>Walmart</td>\n",
       "      <td>Retail</td>\n",
       "      <td>648,125</td>\n",
       "      <td>6.0%</td>\n",
       "      <td>2,100,000</td>\n",
       "      <td>Bentonville, Arkansas</td>\n",
       "    </tr>\n",
       "    <tr>\n",
       "      <th>1</th>\n",
       "      <td>2</td>\n",
       "      <td>Amazon</td>\n",
       "      <td>Retail and cloud computing</td>\n",
       "      <td>574,785</td>\n",
       "      <td>11.9%</td>\n",
       "      <td>1,525,000</td>\n",
       "      <td>Seattle, Washington</td>\n",
       "    </tr>\n",
       "    <tr>\n",
       "      <th>2</th>\n",
       "      <td>3</td>\n",
       "      <td>Apple</td>\n",
       "      <td>Electronics industry</td>\n",
       "      <td>383,482</td>\n",
       "      <td>-2.8%</td>\n",
       "      <td>161,000</td>\n",
       "      <td>Cupertino, California</td>\n",
       "    </tr>\n",
       "    <tr>\n",
       "      <th>3</th>\n",
       "      <td>4</td>\n",
       "      <td>UnitedHealth Group</td>\n",
       "      <td>Healthcare</td>\n",
       "      <td>371,622</td>\n",
       "      <td>14.6%</td>\n",
       "      <td>440,000</td>\n",
       "      <td>Minnetonka, Minnesota</td>\n",
       "    </tr>\n",
       "    <tr>\n",
       "      <th>4</th>\n",
       "      <td>5</td>\n",
       "      <td>Berkshire Hathaway</td>\n",
       "      <td>Conglomerate</td>\n",
       "      <td>364,482</td>\n",
       "      <td>20.7%</td>\n",
       "      <td>396,500</td>\n",
       "      <td>Omaha, Nebraska</td>\n",
       "    </tr>\n",
       "    <tr>\n",
       "      <th>...</th>\n",
       "      <td>...</td>\n",
       "      <td>...</td>\n",
       "      <td>...</td>\n",
       "      <td>...</td>\n",
       "      <td>...</td>\n",
       "      <td>...</td>\n",
       "      <td>...</td>\n",
       "    </tr>\n",
       "    <tr>\n",
       "      <th>95</th>\n",
       "      <td>96</td>\n",
       "      <td>TIAA</td>\n",
       "      <td>Financials</td>\n",
       "      <td>45,735</td>\n",
       "      <td>11.8%</td>\n",
       "      <td>16,023</td>\n",
       "      <td>New York City, New York</td>\n",
       "    </tr>\n",
       "    <tr>\n",
       "      <th>96</th>\n",
       "      <td>97</td>\n",
       "      <td>CHS</td>\n",
       "      <td>Agriculture cooperative</td>\n",
       "      <td>45,590</td>\n",
       "      <td>-4.6%</td>\n",
       "      <td>10,609</td>\n",
       "      <td>Inver Grove Heights, Minnesota</td>\n",
       "    </tr>\n",
       "    <tr>\n",
       "      <th>97</th>\n",
       "      <td>98</td>\n",
       "      <td>Bristol-Myers Squibb</td>\n",
       "      <td>Pharmaceutical industry</td>\n",
       "      <td>45,006</td>\n",
       "      <td>-2.5%</td>\n",
       "      <td>34,100</td>\n",
       "      <td>New York City, New York</td>\n",
       "    </tr>\n",
       "    <tr>\n",
       "      <th>98</th>\n",
       "      <td>99</td>\n",
       "      <td>Dow Chemical Company</td>\n",
       "      <td>Chemical industry</td>\n",
       "      <td>44,622</td>\n",
       "      <td>-21.6%</td>\n",
       "      <td>35,900</td>\n",
       "      <td>Midland, Michigan</td>\n",
       "    </tr>\n",
       "    <tr>\n",
       "      <th>99</th>\n",
       "      <td>100</td>\n",
       "      <td>Best Buy</td>\n",
       "      <td>Retail</td>\n",
       "      <td>43,452</td>\n",
       "      <td>-6.1%</td>\n",
       "      <td>85,000</td>\n",
       "      <td>Richfield, Minnesota</td>\n",
       "    </tr>\n",
       "  </tbody>\n",
       "</table>\n",
       "<p>100 rows × 7 columns</p>\n",
       "</div>"
      ],
      "text/plain": [
       "   Rank                  Name                    Industry  \\\n",
       "0     1               Walmart                      Retail   \n",
       "1     2                Amazon  Retail and cloud computing   \n",
       "2     3                 Apple        Electronics industry   \n",
       "3     4    UnitedHealth Group                  Healthcare   \n",
       "4     5    Berkshire Hathaway                Conglomerate   \n",
       "..  ...                   ...                         ...   \n",
       "95   96                  TIAA                  Financials   \n",
       "96   97                   CHS     Agriculture cooperative   \n",
       "97   98  Bristol-Myers Squibb     Pharmaceutical industry   \n",
       "98   99  Dow Chemical Company           Chemical industry   \n",
       "99  100              Best Buy                      Retail   \n",
       "\n",
       "   Revenue (USD millions) Revenue growth  Employees  \\\n",
       "0                 648,125           6.0%  2,100,000   \n",
       "1                 574,785          11.9%  1,525,000   \n",
       "2                 383,482          -2.8%    161,000   \n",
       "3                 371,622          14.6%    440,000   \n",
       "4                 364,482          20.7%    396,500   \n",
       "..                    ...            ...        ...   \n",
       "95                 45,735          11.8%     16,023   \n",
       "96                 45,590          -4.6%     10,609   \n",
       "97                 45,006          -2.5%     34,100   \n",
       "98                 44,622         -21.6%     35,900   \n",
       "99                 43,452          -6.1%     85,000   \n",
       "\n",
       "                      Headquarters  \n",
       "0            Bentonville, Arkansas  \n",
       "1              Seattle, Washington  \n",
       "2            Cupertino, California  \n",
       "3            Minnetonka, Minnesota  \n",
       "4                  Omaha, Nebraska  \n",
       "..                             ...  \n",
       "95         New York City, New York  \n",
       "96  Inver Grove Heights, Minnesota  \n",
       "97         New York City, New York  \n",
       "98               Midland, Michigan  \n",
       "99            Richfield, Minnesota  \n",
       "\n",
       "[100 rows x 7 columns]"
      ]
     },
     "execution_count": 22,
     "metadata": {},
     "output_type": "execute_result"
    }
   ],
   "source": [
    "for row in table.find_all('tr')[1:]:\n",
    "    # print(row.find_all('td'))\n",
    "    # row_list.append(row.text.strip())\n",
    "    individualData = [data.text.strip() for data in row.find_all('td')]\n",
    "\n",
    "    length = len(df)\n",
    "    df.loc[length] = individualData\n",
    "\n",
    "df\n",
    "\n",
    "# print(individualData)"
   ]
  },
  {
   "cell_type": "code",
   "execution_count": null,
   "id": "2ac49f32-d34a-4ea3-9b14-5eebd7fcf2b0",
   "metadata": {},
   "outputs": [],
   "source": []
  }
 ],
 "metadata": {
  "kernelspec": {
   "display_name": "Python [conda env:base] *",
   "language": "python",
   "name": "conda-base-py"
  },
  "language_info": {
   "codemirror_mode": {
    "name": "ipython",
    "version": 3
   },
   "file_extension": ".py",
   "mimetype": "text/x-python",
   "name": "python",
   "nbconvert_exporter": "python",
   "pygments_lexer": "ipython3",
   "version": "3.12.7"
  }
 },
 "nbformat": 4,
 "nbformat_minor": 5
}
